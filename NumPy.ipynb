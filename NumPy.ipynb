{
 "cells": [
  {
   "cell_type": "markdown",
   "id": "b9b63c26",
   "metadata": {},
   "source": [
    "Создание массивов:"
   ]
  },
  {
   "cell_type": "markdown",
   "id": "3452ea1e",
   "metadata": {},
   "source": [
    "* Создание одномерного массива:"
   ]
  },
  {
   "cell_type": "code",
   "execution_count": 1,
   "id": "b36d6e78",
   "metadata": {},
   "outputs": [],
   "source": [
    "import numpy as np\n",
    "\n",
    "a = np.array([1, 2, 3])"
   ]
  },
  {
   "cell_type": "markdown",
   "id": "8ebe1b76",
   "metadata": {},
   "source": [
    "* Создание двумерного массива (матрицы):"
   ]
  },
  {
   "cell_type": "code",
   "execution_count": 2,
   "id": "dc7f0d5b",
   "metadata": {},
   "outputs": [],
   "source": [
    "b = np.array([[1, 2, 3], [4, 5, 6]])"
   ]
  },
  {
   "cell_type": "markdown",
   "id": "eb7da9fd",
   "metadata": {},
   "source": [
    "* Создание массива с нулями или единицами:"
   ]
  },
  {
   "cell_type": "code",
   "execution_count": 3,
   "id": "469748cf",
   "metadata": {},
   "outputs": [],
   "source": [
    "zeros_array = np.zeros((2, 3))  # массив из нулей размером 2x3\n",
    "ones_array = np.ones((3, 2))   # массив из единиц размером 3x2"
   ]
  },
  {
   "cell_type": "markdown",
   "id": "f7fac419",
   "metadata": {},
   "source": [
    "Основные операции:\n",
    "* Сложение, вычитание, умножение и деление: "
   ]
  },
  {
   "cell_type": "code",
   "execution_count": 5,
   "id": "59ecf152",
   "metadata": {},
   "outputs": [],
   "source": [
    "x = np.array([[1, 2], [3, 4]])\n",
    "y = np.array([[5, 6], [7, 8]])\n",
    "\n",
    "sum_result = x + y\n",
    "diff_result = x - y\n",
    "product_result = x * y\n",
    "division_result = x / y"
   ]
  },
  {
   "cell_type": "markdown",
   "id": "8761848f",
   "metadata": {},
   "source": [
    "* Транспонирование матрицы:"
   ]
  },
  {
   "cell_type": "code",
   "execution_count": 6,
   "id": "a7cadced",
   "metadata": {},
   "outputs": [],
   "source": [
    "transposed = x.T"
   ]
  },
  {
   "cell_type": "markdown",
   "id": "1b856691",
   "metadata": {},
   "source": [
    "Индексация и срезы:\n",
    "\n",
    "* Индексация элементов массива:"
   ]
  },
  {
   "cell_type": "code",
   "execution_count": 7,
   "id": "1a261fd1",
   "metadata": {},
   "outputs": [],
   "source": [
    "element = x[0, 1]  # элемент в первой строке и втором столбце\n"
   ]
  },
  {
   "cell_type": "markdown",
   "id": "6d968246",
   "metadata": {},
   "source": [
    "* Срезы (slices):"
   ]
  },
  {
   "cell_type": "code",
   "execution_count": 8,
   "id": "523d3215",
   "metadata": {},
   "outputs": [],
   "source": [
    "sliced_array = x[:, 1]  # все элементы во втором столбце\n"
   ]
  },
  {
   "cell_type": "markdown",
   "id": "955cd9cf",
   "metadata": {},
   "source": [
    "Функции и операции:\n",
    "\n",
    "* Сумма, среднее, минимум, максимум:"
   ]
  },
  {
   "cell_type": "code",
   "execution_count": 9,
   "id": "4004cf65",
   "metadata": {},
   "outputs": [],
   "source": [
    "total_sum = np.sum(x)\n",
    "average = np.mean(x)\n",
    "minimum_value = np.min(x)\n",
    "maximum_value = np.max(x)\n"
   ]
  },
  {
   "cell_type": "markdown",
   "id": "13158d9e",
   "metadata": {},
   "source": [
    "* Математические функции:"
   ]
  },
  {
   "cell_type": "code",
   "execution_count": 10,
   "id": "9345d073",
   "metadata": {},
   "outputs": [],
   "source": [
    "condition = x > 2\n",
    "filtered_array = x[condition]\n"
   ]
  },
  {
   "cell_type": "code",
   "execution_count": null,
   "id": "958dc673",
   "metadata": {},
   "outputs": [],
   "source": []
  }
 ],
 "metadata": {
  "kernelspec": {
   "display_name": "Python 3 (ipykernel)",
   "language": "python",
   "name": "python3"
  },
  "language_info": {
   "codemirror_mode": {
    "name": "ipython",
    "version": 3
   },
   "file_extension": ".py",
   "mimetype": "text/x-python",
   "name": "python",
   "nbconvert_exporter": "python",
   "pygments_lexer": "ipython3",
   "version": "3.11.3"
  }
 },
 "nbformat": 4,
 "nbformat_minor": 5
}
